{
 "cells": [
  {
   "cell_type": "markdown",
   "metadata": {},
   "source": [
    "# Merging of Tatoeba Datasets on the Local Machine"
   ]
  },
  {
   "cell_type": "markdown",
   "metadata": {},
   "source": [
    "The purpose of this notebook is to establish a baseline for the kind of coding and time duration needed to undertake similar merges to what is being accomplished in the MRjob file (mapreduce.py). This code stops short of the final steps, that require producing just the final paraphrases in one language, rather than bidirectional translation pairs. The complexity of those omitted steps is one of the reasons I chose the MapReduce framework in the first place!"
   ]
  },
  {
   "cell_type": "code",
   "execution_count": 28,
   "metadata": {},
   "outputs": [],
   "source": [
    "import pandas as pd\n",
    "from tqdm import tqdm\n",
    "import pickle\n",
    "import time"
   ]
  },
  {
   "cell_type": "code",
   "execution_count": 47,
   "metadata": {},
   "outputs": [],
   "source": [
    "pd.set_option('display.max_colwidth', -1)"
   ]
  },
  {
   "cell_type": "markdown",
   "metadata": {},
   "source": [
    "First, we consider the time requirements for loading the data. This corresponds roughly to  "
   ]
  },
  {
   "cell_type": "code",
   "execution_count": 32,
   "metadata": {},
   "outputs": [
    {
     "name": "stdout",
     "output_type": "stream",
     "text": [
      "Time taken to load the two tables is 84.02482175827026 seconds\n"
     ]
    }
   ],
   "source": [
    "t0 = time.time()\n",
    "sent_details = pd.read_csv('sentences.csv', \n",
    "                           sep='\\t', header=None, error_bad_lines=False)\n",
    "sent_details = sent_details.rename(columns={0:'Sentence id', 1:'Lang',  2:'Text'})\n",
    "sent_details.dropna(subset=['Lang'], inplace=True)\n",
    "links = pd.read_csv('links.csv', sep='\\t', header=None, error_bad_lines=False)\n",
    "links = links.rename(columns={0:'Sentence id',1:'Translation id'})\n",
    "\n",
    "print(\"Time taken to load the two tables is {} seconds\". format(time.time()-t0))"
   ]
  },
  {
   "cell_type": "markdown",
   "metadata": {},
   "source": [
    "This implies that for our parallelized code to offer any computational benefits relative to serial code on local machines, it must take under 84 seconds to complete the first step of the Mapper (the splitting of rows and merging thereof based on the translation ID)"
   ]
  },
  {
   "cell_type": "markdown",
   "metadata": {},
   "source": [
    "### Testing Unicode Complications"
   ]
  },
  {
   "cell_type": "code",
   "execution_count": 4,
   "metadata": {},
   "outputs": [],
   "source": [
    "#Test what happens with splittling on TSV\n",
    "# https://stackoverflow.com/questions/13992971/reading-and-parsing-a-tsv-file-then-manipulating-it-for-saving-as-csv-efficie\n",
    "# Will need the following as support: \n",
    "# https://stackoverflow.com/questions/21955868/python-map-reduce-simple-wordcount-in-cyrillic-text\n",
    "enc = 'utf-8'\n",
    "with open('sentences_tsv_sample.csv','r', encoding=enc) as tsv:\n",
    "    AoA = [line.strip().split('\\t') for line in tsv]"
   ]
  },
  {
   "cell_type": "code",
   "execution_count": 5,
   "metadata": {},
   "outputs": [
    {
     "name": "stdout",
     "output_type": "stream",
     "text": [
      "[['\"1', 'cmn', '我們試試看！\",'], ['\"2', 'cmn', '我该去睡觉了。\",'], ['\"3', 'cmn', '你在干什麼啊？\",'], ['\"4', 'cmn', '這是什麼啊？\",'], ['\"5', 'cmn', '今天是６月１８号，也是Muiriel的生日！\",'], ['\"6', 'cmn', '生日快乐，Muiriel！\",'], ['\"7', 'cmn', 'Muiriel现在20岁了。\",'], ['\"8', 'cmn', '密码是\"\"Muiriel\"\"。\",'], ['\"9', 'cmn', '我很快就會回來。\",'], ['\"10', 'cmn', '我不知道。\",'], ['\"11', 'cmn', '我不知道應該說什麼才好。\",'], ['\"12', 'cmn', '這個永遠完不了了。\",'], ['\"13', 'cmn', '我只是不知道應該說什麼而已……\",'], ['\"14', 'cmn', '那是一隻有惡意的兔子。\",'], ['\"15', 'cmn', '我以前在山里。\",'], ['\"16', 'cmn', '那是一张近照吗？\",'], ['\"17', 'cmn', '我不知道我有沒有時間。\",'], ['\"18', 'cmn', '剛才我的麥克風沒起作用，不知道為什麼。\",'], ['\"19', 'cmn', '到了最後，大家一定要靠自己學習。\",'], ['\"20', 'cmn', '世界上的教育都讓我失望。\",'], ['\"21', 'cmn', '选择什么是“对”或“错”是一项艰难的任务，我们却必须要完成它。\",'], ['\"22', 'cmn', '這樣做的話什麼都不會改變的。\",'], ['\"23', 'cmn', '這個要三十歐元。\",'], ['\"24', 'cmn', '我一天賺一百歐元。\",'], ['\"25', 'cmn', '也许我会马上放弃然后去睡一觉。\",'], ['\"26', 'cmn', '那是不會發生的。\",'], ['\"27', 'cmn', '我会尽量不打扰你复习。\",'], ['\"28', 'cmn', '不要擔心。\",'], ['\"29', 'cmn', '我很想你。\",'], ['\"30', 'cmn', '我明天回來的時候會跟他們聯絡。\",'], ['\"31', 'cmn', '我一直都比較喜歡神秘一點的人物。\",'], ['\"32', 'cmn', '你應該去睡覺了吧。\",'], ['\"33', 'cmn', '我要走了。\",'], ['\"34', 'cmn', '我請他們再寄給我一張票。\",'], ['\"35', 'cmn', '我不能活那種命。\",'], ['\"36', 'cmn', '我曾經想過當個太空物理學家。\",'], ['\"37', 'cmn', '我從來沒喜歡過生物學。\",'], ['\"38', 'cmn', '可惜这是真的。\",'], ['\"39', 'cmn', '大部份的人覺得我瘋了。\",'], ['\"40', 'cmn', '不，我不是！你才是！\",'], ['\"41', 'cmn', '那是我該說的話!\",'], ['\"42', 'cmn', '他在踢我！\",'], ['\"43', 'cmn', '你肯定吗？\",'], ['\"44', 'cmn', '那就表示有問題...\",'], ['\"45', 'cmn', '哦！有一隻蝴蝶！\",'], ['\"46', 'cmn', '趕快!\",'], ['\"47', 'cmn', '如果我可以像那樣的話...\",'], ['\"48', 'cmn', '你是在跟我開玩笑吧？！\",'], ['\"49', 'cmn', '我長大後想當國王。\",'], ['\"50', 'cmn', '我好胖哦。\",'], ['\"51', 'cmn', '那又怎樣?\",'], ['\"52', 'cmn', '我要把他射下來。\",'], ['\"53', 'cmn', '那是因為妳是女生。\",'], ['\"54', 'cmn', '我会不高兴，但我不会自杀。\",'], ['\"55', 'cmn', '以前讀高中的時候﹐我每天早上六點起床。\",'], ['\"56', 'cmn', '你問這個幹什麼?\",'], ['\"57', 'cmn', '你待了多久?\",'], ['\"58', 'cmn', '我不知道它是从哪里来的。\",'], ['\"59', 'cmn', '這個不重要。\",'], ['\"60', 'cmn', '哪裡有問題?\",'], ['\"61', 'cmn', '不要再把我当成“正常” 人!\",'], ['\"62', 'cmn', '所有被发明的都是真的。\",'], ['\"63', 'cmn', '感到惊讶、感到惊奇就是明白的开始。\",'], ['\"64', 'cmn', '宇宙毫无疑问是无限的。\",'], ['\"65', 'cmn', '要变得完美，她就是少了一个缺点。\",'], ['\"66', 'cmn', '然而，相反的理论往往也是真的。\",'], ['\"67', 'cmn', '我们看东西不是看其实质，而是以我们的主观意识看它们的。\",'], ['\"68', 'cmn', '世界就是一个疯子的囚笼。\",'], ['\"69', 'cmn', '我叫Jack。\",'], ['\"70', 'cmn', '从来就没有徒劳的爱情。\",'], ['\"71', 'cmn', '生活就是當你忙著進行你的計劃時總有其他的事情發生。\",'], ['\"72', 'cmn', '没有欲望就等于拥有。\",'], ['\"73', 'cmn', '聖誕節快樂！\",'], ['\"74', 'cmn', '罗马不是一天建成的。\",'], ['\"75', 'cmn', '你是从哪个国家来的？\",'], ['\"77', 'deu', 'Lass uns etwas versuchen!\",'], ['\"78', 'deu', 'Ich muss schlafen gehen.\",'], ['\"80', 'deu', 'Was ist das?\",'], ['\"81', 'deu', 'Heute ist der 18. Juni und das ist der Geburtstag von Muiriel!\",'], ['\"82', 'deu', 'Herzlichen Glückwunsch zum Geburtstag\", Muiriel!'], ['\"83', 'deu', 'Muiriel ist jetzt 20.\",'], ['\"84', 'deu', 'Das Passwort ist \"\"Muiriel\"\".\",'], ['\"85', 'deu', 'Ich werde bald zurück sein.\",'], ['\"87', 'deu', 'Ich finde keine Worte.\",'], ['\"88', 'deu', 'Das wird nie enden.\",'], ['\"89', 'deu', 'Ich weiß einfach nicht\", was ich sagen soll.'], ['\"90', 'deu', 'Das war ein böses Kaninchen.\",'], ['\"91', 'deu', 'Ich war in den Bergen.\",'], ['\"93', 'deu', 'Ich weiß nicht\", ob ich Zeit dazu habe.'], ['\"94', 'deu', 'Aus irgendeinem Grund hat das Mikrofon gerade nicht funktioniert.\",'], ['\"95', 'deu', 'Letztendlich muss jeder selbst lernen.\",'], ['\"96', 'deu', 'Die Ausbildung in dieser Welt enttäuscht mich.\",'], ['\"97', 'deu', 'Zum Lernen sollte man nicht gezwungen werden. Zum Lernen sollte man ermutigt werden.\",'], ['\"98', 'deu', 'Es ist eine schwere Aufgabe\",\" zwischen \"\"richtig\"\" und \"\"falsch\"\" zu unterscheiden\"'], ['\"99', 'deu', 'Das wird nichts ändern.\",'], ['\"100', 'deu', 'Das wird 30 € kosten.\",'], ['\"101', 'deu', 'Ich verdiene 100 Euro pro Tag.\",'], ['\"102', 'deu', 'Es kann sein\", dass ich bald aufgebe und stattdessen ein Nickerchen mache.'], ['\"103', 'deu', 'Das liegt daran\", dass du nicht allein sein willst.'], ['\"104', 'deu', 'Das wird nicht passieren.\",'], ['\"105', 'deu', 'Manchmal kann er ein seltsamer Junge sein.\",'], ['\"106', 'deu', 'Ich werde mir Mühe geben\", dich nicht beim Lernen zu stören.'], ['\"107', 'deu', 'Ich kann mich nur fragen\", ob es für alle anderen dasselbe ist.'], ['\"108', 'deu', 'Ich vermute\", das ist anders'], ['\"109', 'deu', 'Mach dir keine Sorgen.\",'], ['\"110', 'deu', 'Ich vermisse dich.\",'], ['\"111', 'deu', 'Ich werde sie morgen anrufen\", wenn ich zurückkomme.'], ['\"112', 'deu', 'Ich mochte mysteriöse Charaktere schon immer mehr.\",'], ['\"113', 'deu', 'Du solltest schlafen.\",'], ['\"115', 'deu', 'Ich sagte ihnen\", sie sollen mir ein neues Ticket schicken.'], ['\"116', 'deu', 'Du bist so ungeduldig mit mir.\",'], ['\"117', 'deu', 'Ich kann so ein Leben nicht leben.\",'], ['\"118', 'deu', 'Ich wollte mal Astrophysiker werden.\",'], ['\"119', 'deu', 'Ich mochte Biologie noch nie.\",'], ['\"120', 'deu', 'Die letzte Person\", der ich meine Idee erzählt habe'], ['\"121', 'deu', 'Wenn die Welt nicht so wäre wie sie jetzt ist\", könnte ich jedem vertrauen.'], ['\"122', 'deu', 'Unglücklicherweise stimmt es.\",'], ['\"123', 'deu', 'Sie sind zu sehr damit beschäftigt\", sich gegenseitig zu bekämpfen'], ['\"124', 'deu', 'Die meisten Leute denken\", ich sei verrückt.'], ['\"125', 'deu', 'Nein\", ich bin es nicht'], ['\"126', 'deu', 'Das war mein Satz!\",'], ['\"127', 'deu', 'Er tritt mich!\",'], ['\"128', 'deu', 'Bist du sicher?\",'], ['\"129', 'deu', 'Dann haben wir ein Problem...\",'], ['\"130', 'deu', 'Oh\", da ist ein Schmetterling!'], ['\"131', 'deu', 'Beeil dich!\",'], ['\"132', 'deu', 'Es überrascht mich nicht.\",'], ['\"133', 'deu', 'Wenn ich so sein könnte...\",'], ['\"134', 'deu', 'Aus irgendeinem Grund fühle ich mich nachts lebendiger.\",'], ['\"135', 'deu', 'Das kommt auf den Zusammenhang an.\",'], ['\"136', 'deu', 'Willst du mich verdammt nochmal auf den Arm nehmen?!\",'], ['\"137', 'deu', 'Das ist das Dümmste\", was ich je gesagt habe.'], ['\"138', 'deu', 'Ich will nicht erbärmlich sein\", ich will cool sein!!'], ['\"139', 'deu', 'Wenn ich groß bin\", will ich ein König sein.'], ['\"140', 'deu', 'Es ist wundervoll in Amerika zu sein\", wenn man hier ist'], ['\"141', 'deu', 'Ich bin so dick.\",'], ['\"142', 'deu', 'Na und?\",'], ['\"143', 'deu', 'Ich werde ihn erschießen.\",'], ['\"144', 'deu', 'Ich bin kein echter Fisch\", ich bin nur ein einfaches Plüschtier.'], ['\"145', 'deu', 'Ich sag\\'s ja nur!\",'], ['\"146', 'deu', 'Wahrscheinlich war es das\", was ihre Entscheidung beeinflusst hat.'], ['\"147', 'deu', 'Ich habe mich immer gefragt\", wie es wäre'], ['\"148', 'deu', 'Das hätte ich gesagt.\",'], ['\"149', 'deu', 'Es würde ewig dauern\", alles zu erklären.'], ['\"150', 'deu', 'Es liegt daran\", dass du ein Mädchen bist.'], ['\"151', 'deu', 'Manchmal kann ich es nicht vermeiden\", Gefühle zu zeigen.'], ['\"152', 'deu', 'Es ist ein Wort\", für das ich gerne einen Ersatz finden würde.'], ['\"153', 'deu', 'Das wäre etwas\", das ich programmieren sollte.'], ['\"154', 'deu', 'Ich beabsichtige nicht\", selbstsüchtig zu sein.'], ['\"155', 'deu', 'Lass uns über das Schlimmste\", das passieren könnte'], ['\"156', 'deu', 'Wie viele enge Freunde hast du?\",'], ['\"157', 'deu', 'Ich bin vielleicht asozial\", aber das heißt nicht'], ['\"158', 'deu', 'Das ist immer so gewesen.\",'], ['\"159', 'deu', 'Ich denke\", es ist am besten'], ['\"160', 'deu', 'Man kann immer Zeit finden.\",'], ['\"161', 'deu', 'Ich wäre unglücklich\", aber ich würde keinen Selbstmord begehen.'], ['\"162', 'deu', 'Damals im Gymnasium bin ich jeden Morgen um 6 Uhr aufgestanden.\",'], ['\"163', 'deu', 'Als ich aufgewacht bin\", war ich traurig.'], ['\"164', 'deu', 'Das ist am Ende einigermaßen erklärt.\",'], ['\"165', 'deu', 'Ich dachte\", du würdest gerne neue Sachen lernen.'], ['\"166', 'deu', 'Die meisten Menschen schreiben über ihr Alltagsleben.\",'], ['\"167', 'deu', 'Wenn ich dir ein Marshmallow schicken könnte\", Trang'], ['\"168', 'deu', 'Um das zu tun\", musst du Risiken eingehen.'], ['\"169', 'deu', 'Jeder Mensch\", der allein ist'], ['\"170', 'deu', 'Warum fragst du?\",'], ['\"171', 'deu', 'Ich bin kein Künstler. Ich hatte niemals das Zeug dazu.\",'], ['\"172', 'deu', 'Ich kann es ihr jetzt nicht sagen. Das ist nicht mehr so einfach.\",'], ['\"173', 'deu', 'Ich bin ein Mensch\", der viele Fehler hat'], ['\"174', 'deu', 'Immer\", wenn ich etwas finde'], ['\"175', 'deu', 'Wie lange bist du geblieben?\",'], ['\"176', 'deu', 'Vielleicht wird es für ihn genauso sein.\",'], ['\"177', 'deu', 'Unschuld ist eine schöne Sache.\",'], ['\"178', 'deu', 'Die Menschen waren nie dazu gedacht\", ewig zu leben.'], ['\"179', 'deu', 'Ich will meine Ideen nicht verlieren\", selbst wenn einige von ihnen ein bisschen extrem sind.'], ['\"180', 'deu', 'Ich denke\", ich habe dazu eine Theorie.'], ['\"181', 'deu', 'Das macht neugierig.\",'], ['\"182', 'deu', 'Meinst du gerade\", dass du absichtlich deine Schönheit versteckst?'], ['\"183', 'deu', 'Ich habe kein Konto in diesen Foren.\",'], ['\"184', 'deu', 'Wenn jemand fragen sollte\", was die Pointe der Geschichte sei'], ['\"185', 'deu', 'Ich wusste nicht\", woher es kam.'], ['\"186', 'deu', 'Ich denke\", dass mein Zusammenleben mit dir deine Lebensweise beeinflusst hat.'], ['\"187', 'deu', 'Dies ist nicht wichtig.\",'], ['\"188', 'deu', 'Ich möchte es nicht.\",'], ['\"189', 'deu', 'Sie fragt\", wie das möglich ist.'], ['\"190', 'deu', 'Du läufst einfach vor den Problemen des Lebens davon.\",'], ['\"191', 'deu', 'Wenn du den Liedtext anschaust\", bedeutet er nicht wirklich viel.'], ['\"192', 'deu', 'Es gibt da ein Problem\", das du nicht siehst.'], ['\"193', 'deu', 'Du kannst das machen!\",'], ['\"194', 'deu', 'Meinem Physiklehrer ist es egal\", wenn ich den Unterricht schwänze.'], ['\"195', 'deu', 'Ich wünschte\", ich könnte nach Japan gehen.'], ['\"196', 'deu', 'Ich hasse es\", wenn viele Leute da sind.'], ['\"197', 'deu', 'Ich muss ins Bett gehen.\",'], ['\"198', 'deu', 'Danach gehe ich\", aber dann merke ich'], ['\"199', 'deu', 'Ich werde dich heute nichts mehr fragen.\",'], ['\"200', 'deu', 'Nächste Woche wird es vielleicht Frost geben.\",'], ['\"201', 'deu', 'Obwohl er sich entschuldigt hat\", bin ich immer noch wütend.'], ['\"202', 'deu', 'Die Polizei wird euch dazu bringen\", die Kugeln zu finden.'], ['\"203', 'deu', 'Danke\", dass Sie mir letzten Endes erklärt haben'], ['\"204', 'deu', 'Das war nicht meine Absicht.\",'], ['\"205', 'deu', 'Danke für Ihre Erklärung.\",']]\n"
     ]
    }
   ],
   "source": [
    "print(AoA)"
   ]
  },
  {
   "cell_type": "markdown",
   "metadata": {},
   "source": [
    "Clearly for languages other than Chinese, there is an extra comma at the end\n",
    "A decode 'utf'-8 needs to be used for the code to be able to process this mix of languages"
   ]
  },
  {
   "cell_type": "code",
   "execution_count": 7,
   "metadata": {},
   "outputs": [],
   "source": [
    "#This is the code from the Map-Reduce\n",
    "def mapper_parse_rows(row):\n",
    "    try:\n",
    "        data = row.decode('utf-8').split('\\t')\n",
    "        print(data)\n",
    "            # Links Data\n",
    "        if len(data) == 2:\n",
    "            symbol = 'A'         \n",
    "            orig_id = data[0]\n",
    "            pp_id= data[1]\n",
    "            yield pp_id, [symbol, orig_id]\n",
    "\n",
    "            #Sentence Data\n",
    "        else:\n",
    "            symbol = 'B'\n",
    "            pp_id = data[0]\n",
    "            lang = data[1]\n",
    "            text = data[2].strip().lower()                \n",
    "            if lang == \"en\":\n",
    "                yield pp_id, [symbol, text]\n",
    "            else:\n",
    "                pass\n",
    "    except:\n",
    "        pass"
   ]
  },
  {
   "cell_type": "code",
   "execution_count": 22,
   "metadata": {},
   "outputs": [],
   "source": [
    "def mapper_parse_rows(row):\n",
    "    data = row.split('\\t')\n",
    "    print(data)\n",
    "    # Links Data\n",
    "    if len(data) == 3:\n",
    "        symbol = 'B'\n",
    "        pp_id = data[0]\n",
    "        lang = data[1]\n",
    "        text = data[2].strip().lower()\n",
    "        return pp_id, lang, text\n",
    "    else:\n",
    "        print(\"Didn't split!\")\n",
    "        pass\n",
    "    \n"
   ]
  },
  {
   "cell_type": "code",
   "execution_count": 25,
   "metadata": {},
   "outputs": [],
   "source": [
    "test_tsv = \"cmn\tæˆ‘å€‘è©¦è©¦çœ‹ï¼\"\n",
    "test_tsv_german = \"184\tdeu\tWenn jemand fragen sollte\""
   ]
  },
  {
   "cell_type": "code",
   "execution_count": 26,
   "metadata": {},
   "outputs": [
    {
     "name": "stdout",
     "output_type": "stream",
     "text": [
      "['cmn', 'æˆ‘å€‘è©¦è©¦çœ‹ï¼\\x81']\n",
      "Didn't split!\n",
      "None\n",
      "['184', 'deu', 'Wenn jemand fragen sollte']\n",
      "('184', 'deu', 'wenn jemand fragen sollte')\n"
     ]
    }
   ],
   "source": [
    "print(mapper_parse_rows(test_tsv))\n",
    "print(mapper_parse_rows(test_tsv_german))"
   ]
  },
  {
   "cell_type": "markdown",
   "metadata": {},
   "source": [
    "This error happened because encode is on strings and decodes is on bytes\n",
    "https://stackoverflow.com/questions/26125141/str-object-has-no-attribute-decode-in-python3\n"
   ]
  },
  {
   "cell_type": "code",
   "execution_count": 29,
   "metadata": {},
   "outputs": [],
   "source": [
    "english = pd.read_csv('eng_sentences.tsv', \n",
    "                           sep='\\t', header=None, error_bad_lines=False)"
   ]
  },
  {
   "cell_type": "code",
   "execution_count": 31,
   "metadata": {},
   "outputs": [
    {
     "data": {
      "text/plain": [
       "(1323161, 3)"
      ]
     },
     "execution_count": 31,
     "metadata": {},
     "output_type": "execute_result"
    }
   ],
   "source": [
    "english.shape"
   ]
  },
  {
   "cell_type": "code",
   "execution_count": 3,
   "metadata": {},
   "outputs": [
    {
     "data": {
      "text/plain": [
       "8377731"
      ]
     },
     "execution_count": 3,
     "metadata": {},
     "output_type": "execute_result"
    }
   ],
   "source": [
    "len(sent_details)"
   ]
  },
  {
   "cell_type": "code",
   "execution_count": null,
   "metadata": {},
   "outputs": [],
   "source": [
    "sent_details.dropna(subset=['Lang'], inplace=True)"
   ]
  },
  {
   "cell_type": "code",
   "execution_count": null,
   "metadata": {},
   "outputs": [],
   "source": [
    "len(sent_details)"
   ]
  },
  {
   "cell_type": "code",
   "execution_count": null,
   "metadata": {},
   "outputs": [],
   "source": [
    "langs = sorted(sent_details['Lang'].unique())"
   ]
  },
  {
   "cell_type": "code",
   "execution_count": null,
   "metadata": {},
   "outputs": [],
   "source": [
    "required_langs = ['jap', 'en', 'hun', 'kor', 'vie', 'por']"
   ]
  },
  {
   "cell_type": "code",
   "execution_count": 43,
   "metadata": {},
   "outputs": [
    {
     "data": {
      "text/plain": [
       "Index(['Sentence id', 'Lang', 'Text', 'Username', 'Date added',\n",
       "       'Date last modified'],\n",
       "      dtype='object')"
      ]
     },
     "execution_count": 43,
     "metadata": {},
     "output_type": "execute_result"
    }
   ],
   "source": [
    "sent_details.columns"
   ]
  },
  {
   "cell_type": "code",
   "execution_count": 17,
   "metadata": {},
   "outputs": [
    {
     "data": {
      "text/plain": [
       "Index(['Sentence id', 'Translation id'], dtype='object')"
      ]
     },
     "execution_count": 17,
     "metadata": {},
     "output_type": "execute_result"
    }
   ],
   "source": [
    "links.columns"
   ]
  },
  {
   "cell_type": "code",
   "execution_count": 21,
   "metadata": {},
   "outputs": [
    {
     "data": {
      "text/plain": [
       "Index(['Sentence id', 'Lang', 'Text', 'Username', 'Date added',\n",
       "       'Date last modified', 'Translation id'],\n",
       "      dtype='object')"
      ]
     },
     "execution_count": 21,
     "metadata": {},
     "output_type": "execute_result"
    }
   ],
   "source": [
    "#merged_inner.columns"
   ]
  },
  {
   "cell_type": "markdown",
   "metadata": {},
   "source": [
    "### The Core Merges Across Language Pairs"
   ]
  },
  {
   "cell_type": "code",
   "execution_count": 64,
   "metadata": {},
   "outputs": [
    {
     "name": "stdout",
     "output_type": "stream",
     "text": [
      "The time to run was 214.40246987342834 seconds\n"
     ]
    }
   ],
   "source": [
    "#For Spanish\n",
    "t0 = time.time()\n",
    "#approved_langs = ['eng', 'fra']\n",
    "lang_raw = sent_details[(sent_details['Lang'] == 'eng')| (sent_details['Lang'] == 'spa')]\n",
    "merged_inner = pd.merge(left=lang_raw, right=links, left_on='Sentence id', right_on='Sentence id')\n",
    "final = pd.merge(left= merged_inner, right = lang_raw, left_on= 'Translation id', right_on = 'Sentence id')\n",
    "final_en = final[(final['Lang_x']=='eng') & (final['Lang_y']!='eng')]\n",
    "#This ensures that we don't simply find paraphrases of the sentence in the same language\n",
    "final_pairs=final_en[['Text_x', 'Text_y']]\n",
    "final_pairs= final_pairs.reset_index()\n",
    "final_pairs.sort_values('Text_x')\n",
    "final_pairs.sort_values('index')\n",
    "print((\"The time to run was {} seconds\".format(time.time()-t0)))\n",
    "#This took 272 seconds"
   ]
  },
  {
   "cell_type": "code",
   "execution_count": 25,
   "metadata": {},
   "outputs": [
    {
     "data": {
      "text/html": [
       "<div>\n",
       "<style scoped>\n",
       "    .dataframe tbody tr th:only-of-type {\n",
       "        vertical-align: middle;\n",
       "    }\n",
       "\n",
       "    .dataframe tbody tr th {\n",
       "        vertical-align: top;\n",
       "    }\n",
       "\n",
       "    .dataframe thead th {\n",
       "        text-align: right;\n",
       "    }\n",
       "</style>\n",
       "<table border=\"1\" class=\"dataframe\">\n",
       "  <thead>\n",
       "    <tr style=\"text-align: right;\">\n",
       "      <th></th>\n",
       "      <th>index</th>\n",
       "      <th>Text_x</th>\n",
       "      <th>Text_y</th>\n",
       "    </tr>\n",
       "  </thead>\n",
       "  <tbody>\n",
       "  </tbody>\n",
       "</table>\n",
       "</div>"
      ],
      "text/plain": [
       "Empty DataFrame\n",
       "Columns: [index, Text_x, Text_y]\n",
       "Index: []"
      ]
     },
     "execution_count": 25,
     "metadata": {},
     "output_type": "execute_result"
    }
   ],
   "source": [
    "final_pairs.head()"
   ]
  },
  {
   "cell_type": "code",
   "execution_count": 63,
   "metadata": {},
   "outputs": [
    {
     "name": "stdout",
     "output_type": "stream",
     "text": [
      "The time to run was 393.89608001708984 seconds\n"
     ]
    }
   ],
   "source": [
    "# FOr French\n",
    "t0 = time.time()\n",
    "#approved_langs = ['eng', 'fra']\n",
    "lang_raw = sent_details[(sent_details['Lang'] == 'eng')| (sent_details['Lang'] == 'fra')]\n",
    "merged_inner = pd.merge(left=lang_raw, right=links, left_on='Sentence id', right_on='Sentence id')\n",
    "final = pd.merge(left= merged_inner, right = lang_raw, left_on= 'Translation id', right_on = 'Sentence id')\n",
    "final_en = final[(final['Lang_x']=='eng') & (final['Lang_y']!='eng')]\n",
    "#This ensures that we don't simply find paraphrases of the sentence in the same language\n",
    "final_pairs=final_en[['Text_x', 'Text_y']]\n",
    "final_pairs= final_pairs.reset_index()\n",
    "final_pairs.sort_values('Text_x')\n",
    "final_pairs.sort_values('index')\n",
    "print((\"The time to run was {} seconds\".format(time.time()-t0)))"
   ]
  },
  {
   "cell_type": "code",
   "execution_count": 26,
   "metadata": {},
   "outputs": [
    {
     "data": {
      "text/plain": [
       "218861"
      ]
     },
     "execution_count": 26,
     "metadata": {},
     "output_type": "execute_result"
    }
   ],
   "source": [
    "#len(final_pairs.dropna(how='any'))"
   ]
  },
  {
   "cell_type": "markdown",
   "metadata": {},
   "source": [
    "Increase You Try to Recover"
   ]
  },
  {
   "cell_type": "code",
   "execution_count": 28,
   "metadata": {},
   "outputs": [],
   "source": [
    "pickle.dump(final_pairs, open('tatoeba.pkl', 'wb'))"
   ]
  },
  {
   "cell_type": "code",
   "execution_count": 44,
   "metadata": {},
   "outputs": [],
   "source": [
    "final_pairs = pd.read_pickle('tatoeba.pkl')\n"
   ]
  },
  {
   "cell_type": "code",
   "execution_count": 45,
   "metadata": {},
   "outputs": [
    {
     "data": {
      "text/html": [
       "<div>\n",
       "<style scoped>\n",
       "    .dataframe tbody tr th:only-of-type {\n",
       "        vertical-align: middle;\n",
       "    }\n",
       "\n",
       "    .dataframe tbody tr th {\n",
       "        vertical-align: top;\n",
       "    }\n",
       "\n",
       "    .dataframe thead th {\n",
       "        text-align: right;\n",
       "    }\n",
       "</style>\n",
       "<table border=\"1\" class=\"dataframe\">\n",
       "  <thead>\n",
       "    <tr style=\"text-align: right;\">\n",
       "      <th></th>\n",
       "      <th>index</th>\n",
       "      <th>Text_x</th>\n",
       "      <th>Text_y</th>\n",
       "    </tr>\n",
       "  </thead>\n",
       "  <tbody>\n",
       "    <tr>\n",
       "      <th>0</th>\n",
       "      <td>0</td>\n",
       "      <td>Let's try something.</td>\n",
       "      <td>Vamos tentar alguma coisa!</td>\n",
       "    </tr>\n",
       "    <tr>\n",
       "      <th>1</th>\n",
       "      <td>2</td>\n",
       "      <td>Let's try something.</td>\n",
       "      <td>Vamos tentar algo!</td>\n",
       "    </tr>\n",
       "    <tr>\n",
       "      <th>2</th>\n",
       "      <td>4</td>\n",
       "      <td>Let's try something.</td>\n",
       "      <td>Vamos tentar algo.</td>\n",
       "    </tr>\n",
       "    <tr>\n",
       "      <th>3</th>\n",
       "      <td>5</td>\n",
       "      <td>Let's try something.</td>\n",
       "      <td>Vamos tentar alguma coisa.</td>\n",
       "    </tr>\n",
       "    <tr>\n",
       "      <th>4</th>\n",
       "      <td>6</td>\n",
       "      <td>I have to go to sleep.</td>\n",
       "      <td>Preciso ir dormir.</td>\n",
       "    </tr>\n",
       "    <tr>\n",
       "      <th>5</th>\n",
       "      <td>8</td>\n",
       "      <td>I need to go to sleep.</td>\n",
       "      <td>Preciso ir dormir.</td>\n",
       "    </tr>\n",
       "    <tr>\n",
       "      <th>6</th>\n",
       "      <td>10</td>\n",
       "      <td>I have to go to sleep.</td>\n",
       "      <td>Tenho que ir dormir.</td>\n",
       "    </tr>\n",
       "    <tr>\n",
       "      <th>7</th>\n",
       "      <td>13</td>\n",
       "      <td>I need to go to sleep.</td>\n",
       "      <td>Tenho que ir dormir.</td>\n",
       "    </tr>\n",
       "    <tr>\n",
       "      <th>8</th>\n",
       "      <td>16</td>\n",
       "      <td>I have to go to sleep.</td>\n",
       "      <td>Preciso dormir.</td>\n",
       "    </tr>\n",
       "    <tr>\n",
       "      <th>9</th>\n",
       "      <td>18</td>\n",
       "      <td>I have to sleep.</td>\n",
       "      <td>Preciso dormir.</td>\n",
       "    </tr>\n",
       "    <tr>\n",
       "      <th>10</th>\n",
       "      <td>19</td>\n",
       "      <td>I need to sleep.</td>\n",
       "      <td>Preciso dormir.</td>\n",
       "    </tr>\n",
       "    <tr>\n",
       "      <th>11</th>\n",
       "      <td>20</td>\n",
       "      <td>I have to go to sleep.</td>\n",
       "      <td>Tenho de dormir.</td>\n",
       "    </tr>\n",
       "    <tr>\n",
       "      <th>12</th>\n",
       "      <td>22</td>\n",
       "      <td>I have to go to sleep.</td>\n",
       "      <td>Tenho de ir para cama.</td>\n",
       "    </tr>\n",
       "    <tr>\n",
       "      <th>13</th>\n",
       "      <td>24</td>\n",
       "      <td>Today is June 18th and it is Muiriel's birthday!</td>\n",
       "      <td>Hoje é dia 18 de junho, aniversário do Muiriel!</td>\n",
       "    </tr>\n",
       "    <tr>\n",
       "      <th>14</th>\n",
       "      <td>25</td>\n",
       "      <td>It's 18th June today, and also Muiriel's birthday!</td>\n",
       "      <td>Hoje é dia 18 de junho, aniversário do Muiriel!</td>\n",
       "    </tr>\n",
       "    <tr>\n",
       "      <th>15</th>\n",
       "      <td>26</td>\n",
       "      <td>Today is June 18th and it is Muiriel's birthday!</td>\n",
       "      <td>Hoje é 18 de junho e é aniversário de Muiriel!</td>\n",
       "    </tr>\n",
       "    <tr>\n",
       "      <th>16</th>\n",
       "      <td>27</td>\n",
       "      <td>It's 18th June today, and also Muiriel's birthday!</td>\n",
       "      <td>Hoje é 18 de junho e é aniversário de Muiriel!</td>\n",
       "    </tr>\n",
       "    <tr>\n",
       "      <th>17</th>\n",
       "      <td>28</td>\n",
       "      <td>Today is June 18th and it is Muiriel's birthday!</td>\n",
       "      <td>Hoje é 18 de junho e é o aniversário de Muiriel!</td>\n",
       "    </tr>\n",
       "    <tr>\n",
       "      <th>18</th>\n",
       "      <td>29</td>\n",
       "      <td>It's 18th June today, and also Muiriel's birthday!</td>\n",
       "      <td>Hoje é 18 de junho e é o aniversário de Muiriel!</td>\n",
       "    </tr>\n",
       "    <tr>\n",
       "      <th>19</th>\n",
       "      <td>30</td>\n",
       "      <td>Today is June 18th and it is Muiriel's birthday!</td>\n",
       "      <td>Hoje é 18 de junho e é aniversário de Muiriel.</td>\n",
       "    </tr>\n",
       "    <tr>\n",
       "      <th>20</th>\n",
       "      <td>31</td>\n",
       "      <td>Muiriel is 20 now.</td>\n",
       "      <td>Muriel completou 20 anos.</td>\n",
       "    </tr>\n",
       "    <tr>\n",
       "      <th>21</th>\n",
       "      <td>33</td>\n",
       "      <td>Muiriel is 20 now.</td>\n",
       "      <td>Muiriel tem 20 anos agora.</td>\n",
       "    </tr>\n",
       "    <tr>\n",
       "      <th>22</th>\n",
       "      <td>35</td>\n",
       "      <td>Muiriel is 20 now.</td>\n",
       "      <td>Agora Muiriel tem 20 anos.</td>\n",
       "    </tr>\n",
       "    <tr>\n",
       "      <th>23</th>\n",
       "      <td>38</td>\n",
       "      <td>Muiriel is 20 now.</td>\n",
       "      <td>Muriel tem 20 anos agora.</td>\n",
       "    </tr>\n",
       "    <tr>\n",
       "      <th>24</th>\n",
       "      <td>39</td>\n",
       "      <td>Muiriel is 20 now.</td>\n",
       "      <td>A Muriel está com 20 anos agora.</td>\n",
       "    </tr>\n",
       "    <tr>\n",
       "      <th>25</th>\n",
       "      <td>40</td>\n",
       "      <td>Muiriel is 20 now.</td>\n",
       "      <td>A Muiriel fez 20 anos agora.</td>\n",
       "    </tr>\n",
       "    <tr>\n",
       "      <th>26</th>\n",
       "      <td>41</td>\n",
       "      <td>The password is \"Muiriel\".</td>\n",
       "      <td>A senha é \"Muiriel\".</td>\n",
       "    </tr>\n",
       "    <tr>\n",
       "      <th>27</th>\n",
       "      <td>42</td>\n",
       "      <td>The password is \"Muiriel\".</td>\n",
       "      <td>A senha é ''Muiriel''.</td>\n",
       "    </tr>\n",
       "    <tr>\n",
       "      <th>28</th>\n",
       "      <td>49</td>\n",
       "      <td>I will be back soon.</td>\n",
       "      <td>Voltarei em breve.</td>\n",
       "    </tr>\n",
       "    <tr>\n",
       "      <th>29</th>\n",
       "      <td>50</td>\n",
       "      <td>I'll come back soon.</td>\n",
       "      <td>Voltarei em breve.</td>\n",
       "    </tr>\n",
       "    <tr>\n",
       "      <th>...</th>\n",
       "      <td>...</td>\n",
       "      <td>...</td>\n",
       "      <td>...</td>\n",
       "    </tr>\n",
       "    <tr>\n",
       "      <th>218831</th>\n",
       "      <td>679933</td>\n",
       "      <td>Don't buy more ice cream.</td>\n",
       "      <td>Não compre mais sorvete.</td>\n",
       "    </tr>\n",
       "    <tr>\n",
       "      <th>218832</th>\n",
       "      <td>679934</td>\n",
       "      <td>Don't buy more ice cream.</td>\n",
       "      <td>Não comprem mais sorvete.</td>\n",
       "    </tr>\n",
       "    <tr>\n",
       "      <th>218833</th>\n",
       "      <td>679935</td>\n",
       "      <td>Tom ate the last slice of cheese.</td>\n",
       "      <td>Tom comeu a última fatia de queijo.</td>\n",
       "    </tr>\n",
       "    <tr>\n",
       "      <th>218834</th>\n",
       "      <td>679936</td>\n",
       "      <td>Stop leaving empty cartons in the fridge!</td>\n",
       "      <td>Pare de deixar embalagens vazias na geladeira!</td>\n",
       "    </tr>\n",
       "    <tr>\n",
       "      <th>218835</th>\n",
       "      <td>679937</td>\n",
       "      <td>Stop leaving empty cartons in the fridge!</td>\n",
       "      <td>Parem de deixar embalagens vazias na geladeira!</td>\n",
       "    </tr>\n",
       "    <tr>\n",
       "      <th>218836</th>\n",
       "      <td>679938</td>\n",
       "      <td>Don't honk the horn.</td>\n",
       "      <td>Não buzine.</td>\n",
       "    </tr>\n",
       "    <tr>\n",
       "      <th>218837</th>\n",
       "      <td>679939</td>\n",
       "      <td>Don't honk the horn.</td>\n",
       "      <td>Não buzinem.</td>\n",
       "    </tr>\n",
       "    <tr>\n",
       "      <th>218838</th>\n",
       "      <td>679940</td>\n",
       "      <td>Blow out the candle.</td>\n",
       "      <td>Sopre a vela.</td>\n",
       "    </tr>\n",
       "    <tr>\n",
       "      <th>218839</th>\n",
       "      <td>679941</td>\n",
       "      <td>Blow out the candle.</td>\n",
       "      <td>Soprem a vela.</td>\n",
       "    </tr>\n",
       "    <tr>\n",
       "      <th>218840</th>\n",
       "      <td>679950</td>\n",
       "      <td>The moderators banned me from the website for seven days.</td>\n",
       "      <td>Os moderadores me baniram do site por sete dias.</td>\n",
       "    </tr>\n",
       "    <tr>\n",
       "      <th>218841</th>\n",
       "      <td>679951</td>\n",
       "      <td>Did you buy sunflower seeds?</td>\n",
       "      <td>Você comprou sementes de girassol?</td>\n",
       "    </tr>\n",
       "    <tr>\n",
       "      <th>218842</th>\n",
       "      <td>679952</td>\n",
       "      <td>Did you buy sunflower seeds?</td>\n",
       "      <td>Vocês compraram sementes de girassol?</td>\n",
       "    </tr>\n",
       "    <tr>\n",
       "      <th>218843</th>\n",
       "      <td>679953</td>\n",
       "      <td>There's a mouse in the pantry.</td>\n",
       "      <td>Há um rato na despensa.</td>\n",
       "    </tr>\n",
       "    <tr>\n",
       "      <th>218844</th>\n",
       "      <td>679957</td>\n",
       "      <td>I really like studying languages.</td>\n",
       "      <td>Eu gosto demais de estudar idiomas.</td>\n",
       "    </tr>\n",
       "    <tr>\n",
       "      <th>218845</th>\n",
       "      <td>679958</td>\n",
       "      <td>I really like studying languages.</td>\n",
       "      <td>Eu gosto mesmo de estudar idiomas.</td>\n",
       "    </tr>\n",
       "    <tr>\n",
       "      <th>218846</th>\n",
       "      <td>679959</td>\n",
       "      <td>I really like studying languages.</td>\n",
       "      <td>Gosto de estudar idiomas mesmo.</td>\n",
       "    </tr>\n",
       "    <tr>\n",
       "      <th>218847</th>\n",
       "      <td>679969</td>\n",
       "      <td>The dog is covered in mud.</td>\n",
       "      <td>O cachorro está coberto de lama.</td>\n",
       "    </tr>\n",
       "    <tr>\n",
       "      <th>218848</th>\n",
       "      <td>679970</td>\n",
       "      <td>Two scoops of ice cream please.</td>\n",
       "      <td>Duas bolas de sorvete, por favor.</td>\n",
       "    </tr>\n",
       "    <tr>\n",
       "      <th>218849</th>\n",
       "      <td>679971</td>\n",
       "      <td>The dog is starving.</td>\n",
       "      <td>O cachorro está faminto.</td>\n",
       "    </tr>\n",
       "    <tr>\n",
       "      <th>218850</th>\n",
       "      <td>679972</td>\n",
       "      <td>Tom fell off the bridge.</td>\n",
       "      <td>Tom caiu da ponte.</td>\n",
       "    </tr>\n",
       "    <tr>\n",
       "      <th>218851</th>\n",
       "      <td>679974</td>\n",
       "      <td>Could you give me a little taste of your slice of cake? I just want to try it.</td>\n",
       "      <td>Dás-me um bocadinho da tua fatia de bolo? É só para provar.</td>\n",
       "    </tr>\n",
       "    <tr>\n",
       "      <th>218852</th>\n",
       "      <td>679996</td>\n",
       "      <td>It is a complex algorithm.</td>\n",
       "      <td>É um algorítimo complexo.</td>\n",
       "    </tr>\n",
       "    <tr>\n",
       "      <th>218853</th>\n",
       "      <td>679997</td>\n",
       "      <td>It's a complex algorithm.</td>\n",
       "      <td>É um algorítimo complexo.</td>\n",
       "    </tr>\n",
       "    <tr>\n",
       "      <th>218854</th>\n",
       "      <td>680033</td>\n",
       "      <td>Tell him to go home.</td>\n",
       "      <td>Fale para ele ir para casa.</td>\n",
       "    </tr>\n",
       "    <tr>\n",
       "      <th>218855</th>\n",
       "      <td>680034</td>\n",
       "      <td>Tell her to go home.</td>\n",
       "      <td>Fale para ela ir para casa.</td>\n",
       "    </tr>\n",
       "    <tr>\n",
       "      <th>218856</th>\n",
       "      <td>680068</td>\n",
       "      <td>Why are you nervous, my friend?</td>\n",
       "      <td>Por que você está nervoso, meu amigo?</td>\n",
       "    </tr>\n",
       "    <tr>\n",
       "      <th>218857</th>\n",
       "      <td>680071</td>\n",
       "      <td>I want to meet your family someday.</td>\n",
       "      <td>Eu quero conhecer a sua família algum dia.</td>\n",
       "    </tr>\n",
       "    <tr>\n",
       "      <th>218858</th>\n",
       "      <td>680072</td>\n",
       "      <td>I want to meet your family someday.</td>\n",
       "      <td>Quero conhecer a sua família algum dia.</td>\n",
       "    </tr>\n",
       "    <tr>\n",
       "      <th>218859</th>\n",
       "      <td>680127</td>\n",
       "      <td>Is that why you hired me?</td>\n",
       "      <td>É por isso que você me contratou?</td>\n",
       "    </tr>\n",
       "    <tr>\n",
       "      <th>218860</th>\n",
       "      <td>680128</td>\n",
       "      <td>Is that why you hired me?</td>\n",
       "      <td>É por isso que vocês me contrataram?</td>\n",
       "    </tr>\n",
       "  </tbody>\n",
       "</table>\n",
       "<p>218861 rows × 3 columns</p>\n",
       "</div>"
      ],
      "text/plain": [
       "         index  \\\n",
       "0       0        \n",
       "1       2        \n",
       "2       4        \n",
       "3       5        \n",
       "4       6        \n",
       "5       8        \n",
       "6       10       \n",
       "7       13       \n",
       "8       16       \n",
       "9       18       \n",
       "10      19       \n",
       "11      20       \n",
       "12      22       \n",
       "13      24       \n",
       "14      25       \n",
       "15      26       \n",
       "16      27       \n",
       "17      28       \n",
       "18      29       \n",
       "19      30       \n",
       "20      31       \n",
       "21      33       \n",
       "22      35       \n",
       "23      38       \n",
       "24      39       \n",
       "25      40       \n",
       "26      41       \n",
       "27      42       \n",
       "28      49       \n",
       "29      50       \n",
       "...     ..       \n",
       "218831  679933   \n",
       "218832  679934   \n",
       "218833  679935   \n",
       "218834  679936   \n",
       "218835  679937   \n",
       "218836  679938   \n",
       "218837  679939   \n",
       "218838  679940   \n",
       "218839  679941   \n",
       "218840  679950   \n",
       "218841  679951   \n",
       "218842  679952   \n",
       "218843  679953   \n",
       "218844  679957   \n",
       "218845  679958   \n",
       "218846  679959   \n",
       "218847  679969   \n",
       "218848  679970   \n",
       "218849  679971   \n",
       "218850  679972   \n",
       "218851  679974   \n",
       "218852  679996   \n",
       "218853  679997   \n",
       "218854  680033   \n",
       "218855  680034   \n",
       "218856  680068   \n",
       "218857  680071   \n",
       "218858  680072   \n",
       "218859  680127   \n",
       "218860  680128   \n",
       "\n",
       "                                                                                Text_x  \\\n",
       "0       Let's try something.                                                             \n",
       "1       Let's try something.                                                             \n",
       "2       Let's try something.                                                             \n",
       "3       Let's try something.                                                             \n",
       "4       I have to go to sleep.                                                           \n",
       "5       I need to go to sleep.                                                           \n",
       "6       I have to go to sleep.                                                           \n",
       "7       I need to go to sleep.                                                           \n",
       "8       I have to go to sleep.                                                           \n",
       "9       I have to sleep.                                                                 \n",
       "10      I need to sleep.                                                                 \n",
       "11      I have to go to sleep.                                                           \n",
       "12      I have to go to sleep.                                                           \n",
       "13      Today is June 18th and it is Muiriel's birthday!                                 \n",
       "14      It's 18th June today, and also Muiriel's birthday!                               \n",
       "15      Today is June 18th and it is Muiriel's birthday!                                 \n",
       "16      It's 18th June today, and also Muiriel's birthday!                               \n",
       "17      Today is June 18th and it is Muiriel's birthday!                                 \n",
       "18      It's 18th June today, and also Muiriel's birthday!                               \n",
       "19      Today is June 18th and it is Muiriel's birthday!                                 \n",
       "20      Muiriel is 20 now.                                                               \n",
       "21      Muiriel is 20 now.                                                               \n",
       "22      Muiriel is 20 now.                                                               \n",
       "23      Muiriel is 20 now.                                                               \n",
       "24      Muiriel is 20 now.                                                               \n",
       "25      Muiriel is 20 now.                                                               \n",
       "26      The password is \"Muiriel\".                                                       \n",
       "27      The password is \"Muiriel\".                                                       \n",
       "28      I will be back soon.                                                             \n",
       "29      I'll come back soon.                                                             \n",
       "...                      ...                                                             \n",
       "218831  Don't buy more ice cream.                                                        \n",
       "218832  Don't buy more ice cream.                                                        \n",
       "218833  Tom ate the last slice of cheese.                                                \n",
       "218834  Stop leaving empty cartons in the fridge!                                        \n",
       "218835  Stop leaving empty cartons in the fridge!                                        \n",
       "218836  Don't honk the horn.                                                             \n",
       "218837  Don't honk the horn.                                                             \n",
       "218838  Blow out the candle.                                                             \n",
       "218839  Blow out the candle.                                                             \n",
       "218840  The moderators banned me from the website for seven days.                        \n",
       "218841  Did you buy sunflower seeds?                                                     \n",
       "218842  Did you buy sunflower seeds?                                                     \n",
       "218843  There's a mouse in the pantry.                                                   \n",
       "218844  I really like studying languages.                                                \n",
       "218845  I really like studying languages.                                                \n",
       "218846  I really like studying languages.                                                \n",
       "218847  The dog is covered in mud.                                                       \n",
       "218848  Two scoops of ice cream please.                                                  \n",
       "218849  The dog is starving.                                                             \n",
       "218850  Tom fell off the bridge.                                                         \n",
       "218851  Could you give me a little taste of your slice of cake? I just want to try it.   \n",
       "218852  It is a complex algorithm.                                                       \n",
       "218853  It's a complex algorithm.                                                        \n",
       "218854  Tell him to go home.                                                             \n",
       "218855  Tell her to go home.                                                             \n",
       "218856  Why are you nervous, my friend?                                                  \n",
       "218857  I want to meet your family someday.                                              \n",
       "218858  I want to meet your family someday.                                              \n",
       "218859  Is that why you hired me?                                                        \n",
       "218860  Is that why you hired me?                                                        \n",
       "\n",
       "                                                             Text_y  \n",
       "0       Vamos tentar alguma coisa!                                   \n",
       "1       Vamos tentar algo!                                           \n",
       "2       Vamos tentar algo.                                           \n",
       "3       Vamos tentar alguma coisa.                                   \n",
       "4       Preciso ir dormir.                                           \n",
       "5       Preciso ir dormir.                                           \n",
       "6       Tenho que ir dormir.                                         \n",
       "7       Tenho que ir dormir.                                         \n",
       "8       Preciso dormir.                                              \n",
       "9       Preciso dormir.                                              \n",
       "10      Preciso dormir.                                              \n",
       "11      Tenho de dormir.                                             \n",
       "12      Tenho de ir para cama.                                       \n",
       "13      Hoje é dia 18 de junho, aniversário do Muiriel!              \n",
       "14      Hoje é dia 18 de junho, aniversário do Muiriel!              \n",
       "15      Hoje é 18 de junho e é aniversário de Muiriel!               \n",
       "16      Hoje é 18 de junho e é aniversário de Muiriel!               \n",
       "17      Hoje é 18 de junho e é o aniversário de Muiriel!             \n",
       "18      Hoje é 18 de junho e é o aniversário de Muiriel!             \n",
       "19      Hoje é 18 de junho e é aniversário de Muiriel.               \n",
       "20      Muriel completou 20 anos.                                    \n",
       "21      Muiriel tem 20 anos agora.                                   \n",
       "22      Agora Muiriel tem 20 anos.                                   \n",
       "23      Muriel tem 20 anos agora.                                    \n",
       "24      A Muriel está com 20 anos agora.                             \n",
       "25      A Muiriel fez 20 anos agora.                                 \n",
       "26      A senha é \"Muiriel\".                                         \n",
       "27      A senha é ''Muiriel''.                                       \n",
       "28      Voltarei em breve.                                           \n",
       "29      Voltarei em breve.                                           \n",
       "...                    ...                                           \n",
       "218831  Não compre mais sorvete.                                     \n",
       "218832  Não comprem mais sorvete.                                    \n",
       "218833  Tom comeu a última fatia de queijo.                          \n",
       "218834  Pare de deixar embalagens vazias na geladeira!               \n",
       "218835  Parem de deixar embalagens vazias na geladeira!              \n",
       "218836  Não buzine.                                                  \n",
       "218837  Não buzinem.                                                 \n",
       "218838  Sopre a vela.                                                \n",
       "218839  Soprem a vela.                                               \n",
       "218840  Os moderadores me baniram do site por sete dias.             \n",
       "218841  Você comprou sementes de girassol?                           \n",
       "218842  Vocês compraram sementes de girassol?                        \n",
       "218843  Há um rato na despensa.                                      \n",
       "218844  Eu gosto demais de estudar idiomas.                          \n",
       "218845  Eu gosto mesmo de estudar idiomas.                           \n",
       "218846  Gosto de estudar idiomas mesmo.                              \n",
       "218847  O cachorro está coberto de lama.                             \n",
       "218848  Duas bolas de sorvete, por favor.                            \n",
       "218849  O cachorro está faminto.                                     \n",
       "218850  Tom caiu da ponte.                                           \n",
       "218851  Dás-me um bocadinho da tua fatia de bolo? É só para provar.  \n",
       "218852  É um algorítimo complexo.                                    \n",
       "218853  É um algorítimo complexo.                                    \n",
       "218854  Fale para ele ir para casa.                                  \n",
       "218855  Fale para ela ir para casa.                                  \n",
       "218856  Por que você está nervoso, meu amigo?                        \n",
       "218857  Eu quero conhecer a sua família algum dia.                   \n",
       "218858  Quero conhecer a sua família algum dia.                      \n",
       "218859  É por isso que você me contratou?                            \n",
       "218860  É por isso que vocês me contrataram?                         \n",
       "\n",
       "[218861 rows x 3 columns]"
      ]
     },
     "execution_count": 45,
     "metadata": {},
     "output_type": "execute_result"
    }
   ],
   "source": [
    "final_pairs"
   ]
  },
  {
   "cell_type": "code",
   "execution_count": 51,
   "metadata": {},
   "outputs": [],
   "source": [
    "final_pairs['both']= final_pairs['Text_x'] + \"|\" + final_pairs['Text_y']"
   ]
  },
  {
   "cell_type": "code",
   "execution_count": 52,
   "metadata": {},
   "outputs": [],
   "source": [
    "final_pairs['both'].to_csv('both-tatoeba.txt', index=True, sep= ' ', header=None)"
   ]
  },
  {
   "cell_type": "code",
   "execution_count": 40,
   "metadata": {},
   "outputs": [
    {
     "data": {
      "text/plain": [
       "218861"
      ]
     },
     "execution_count": 40,
     "metadata": {},
     "output_type": "execute_result"
    }
   ],
   "source": [
    "len(final_pairs)"
   ]
  },
  {
   "cell_type": "code",
   "execution_count": 53,
   "metadata": {},
   "outputs": [],
   "source": [
    "final_pairs['Text_x'].to_csv('src-tatoeba.txt', index=False, sep= ' ', header=None)\n",
    "final_pairs['Text_y'].to_csv('tgt-tatoeba.txt', index=True, sep= ' ', header=None)"
   ]
  },
  {
   "cell_type": "code",
   "execution_count": 31,
   "metadata": {},
   "outputs": [
    {
     "data": {
      "text/plain": [
       "218861"
      ]
     },
     "execution_count": 31,
     "metadata": {},
     "output_type": "execute_result"
    }
   ],
   "source": [
    "len(final_pairs['Text_y'])"
   ]
  },
  {
   "cell_type": "markdown",
   "metadata": {},
   "source": [
    "## Inefficient Approach to Matching (Don't Try This At Home)"
   ]
  },
  {
   "cell_type": "code",
   "execution_count": null,
   "metadata": {},
   "outputs": [
    {
     "name": "stderr",
     "output_type": "stream",
     "text": [
      "8755653it [4:20:55, 667.71it/s]"
     ]
    }
   ],
   "source": [
    "#This last section is just to laught at the inefficient code this user tried, and then gloat\n",
    "#Do not actually run this unless your Robin Williams in Bicentennial Man. One is glad to be of service!\n",
    "lol_tatoeba = []\n",
    "loopers = links.iterrows()\n",
    "for idx, row in tqdm(loopers): # For each row of the links,returns a series object\n",
    "    src_idx, trg_idx = row['Sentence id'], row['Translation id']\n",
    "    try:\n",
    "        src = sent_details[sent_details['Sentence id']==src_idx][['Text', 'Lang']].iloc[0]\n",
    "        trg = sent_details[sent_details['Sentence id']==trg_idx][['Text', 'Lang']].iloc[0]\n",
    "    except:\n",
    "        continue\n",
    "    lol_tatoeba.append([src_idx, trg_idx, src['Lang'], trg['Lang'], src['Text'], trg['Text']])\n",
    "\n",
    "df_tatoeba = pd.DataFrame(lol_tatoeba)\n",
    "df_tatoeba.rename(columns={0:'SRC ID', 1:'TRG ID', 2:'SRC LANG', 3:'TRG LANG', \n",
    "                          4:'SRC', 5:'TRG'}, inplace=True)\n",
    "df_tatoeba.to_csv('tatoeba-sentpairs.tsv', sep='\\t')\n",
    "\n",
    "# Renaming it for \n",
    "parallel_sents = df_tatoeba"
   ]
  }
 ],
 "metadata": {
  "kernelspec": {
   "display_name": "Python 3",
   "language": "python",
   "name": "python3"
  },
  "language_info": {
   "codemirror_mode": {
    "name": "ipython",
    "version": 3
   },
   "file_extension": ".py",
   "mimetype": "text/x-python",
   "name": "python",
   "nbconvert_exporter": "python",
   "pygments_lexer": "ipython3",
   "version": "3.6.5"
  }
 },
 "nbformat": 4,
 "nbformat_minor": 2
}
