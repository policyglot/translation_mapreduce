{
 "cells": [
  {
   "cell_type": "code",
   "execution_count": 12,
   "metadata": {},
   "outputs": [],
   "source": [
    "from edit_distance import SequenceMatcher"
   ]
  },
  {
   "cell_type": "code",
   "execution_count": 10,
   "metadata": {},
   "outputs": [
    {
     "name": "stdout",
     "output_type": "stream",
     "text": [
      "[['equal', 0, 1, 0, 1], ['equal', 1, 2, 1, 2], ['equal', 2, 3, 2, 3], ['equal', 3, 4, 3, 4], ['equal', 4, 5, 4, 5], ['insert', 4, 4, 5, 6], ['equal', 5, 6, 6, 7], ['equal', 6, 7, 7, 8], ['insert', 6, 6, 8, 9], ['insert', 6, 6, 9, 10], ['equal', 7, 8, 10, 11], ['equal', 8, 9, 11, 12], ['equal', 9, 10, 12, 13], ['equal', 10, 11, 13, 14], ['equal', 11, 12, 14, 15], ['equal', 12, 13, 15, 16], ['equal', 13, 14, 16, 17], ['equal', 14, 15, 17, 18], ['replace', 15, 16, 18, 19]]\n",
      "0.8571428571428571\n",
      "<map object at 0x000001E12F5C84A8>\n"
     ]
    }
   ],
   "source": [
    "ref = \"Today is Monday.\"\n",
    "hyp = \"Today, it's Monday.\"\n",
    "sm = edit_distance.SequenceMatcher(a=ref, b=hyp)\n",
    "print(sm.get_opcodes())\n",
    "print(sm.ratio())\n",
    "print(sm.get_matching_blocks())"
   ]
  },
  {
   "cell_type": "code",
   "execution_count": 11,
   "metadata": {},
   "outputs": [
    {
     "name": "stdout",
     "output_type": "stream",
     "text": [
      "4\n"
     ]
    }
   ],
   "source": [
    "print(sm.distance())"
   ]
  },
  {
   "cell_type": "code",
   "execution_count": null,
   "metadata": {},
   "outputs": [],
   "source": [
    "def add_new_sentence(new_sent, values):\n",
    "    for sent in values:\n",
    "        if SequenceMatcher(a=sent, b=new_sent).distance()>=4:\n",
    "            break\n",
    "            return \n",
    "        else:\n",
    "            "
   ]
  }
 ],
 "metadata": {
  "kernelspec": {
   "display_name": "Python 3",
   "language": "python",
   "name": "python3"
  },
  "language_info": {
   "codemirror_mode": {
    "name": "ipython",
    "version": 3
   },
   "file_extension": ".py",
   "mimetype": "text/x-python",
   "name": "python",
   "nbconvert_exporter": "python",
   "pygments_lexer": "ipython3",
   "version": "3.6.5"
  }
 },
 "nbformat": 4,
 "nbformat_minor": 2
}
